{
  "nbformat": 4,
  "nbformat_minor": 0,
  "metadata": {
    "colab": {
      "provenance": [],
      "include_colab_link": true
    },
    "kernelspec": {
      "name": "python3",
      "display_name": "Python 3"
    },
    "language_info": {
      "name": "python"
    }
  },
  "cells": [
    {
      "cell_type": "markdown",
      "metadata": {
        "id": "view-in-github",
        "colab_type": "text"
      },
      "source": [
        "<a href=\"https://colab.research.google.com/github/Alvaroguijarro97/assignment-1-setup/blob/main/problem_set_1.ipynb\" target=\"_parent\"><img src=\"https://colab.research.google.com/assets/colab-badge.svg\" alt=\"Open In Colab\"/></a>"
      ]
    },
    {
      "cell_type": "markdown",
      "source": [
        "# Problem set 1\n",
        "\n",
        "## Student name: Alvaro Guijarro\n",
        "\n",
        "## Submit by: Thursday 22.09.2022, 23:59\n",
        "\n",
        "#### You will go over some of the things that we saw in class today, and will answer the quiz based on the outcome of your computational process. You also need to submit the script to demostrate the process you used to get to the answers.\n",
        "\n",
        "For this problem set you DO NOT NEED to set training and testing data."
      ],
      "metadata": {
        "id": "GFFALBB_XSwW"
      }
    },
    {
      "cell_type": "markdown",
      "source": [
        "## Question 1."
      ],
      "metadata": {
        "id": "OwR7wci3YAKX"
      }
    },
    {
      "cell_type": "code",
      "source": [
        "#from sklearn.datasets import load_diabetes and set X and y\n",
        "from sklearn import datasets\n",
        "\n",
        "# Take some time to understand the dataset\n",
        "# take a look at it as a DataFrame object\n",
        "X, y = datasets.load_diabetes(return_X_y = True, as_frame=True)\n",
        "X, y \n",
        "\n",
        "\n",
        "# For this problem DO NOT SET training and testing data. We will use the same data\n",
        "# throughout the problem set."
      ],
      "metadata": {
        "id": "7nGQZ9YXhkrR",
        "outputId": "b856cb42-02b2-4540-93cc-1417e69e4503",
        "colab": {
          "base_uri": "https://localhost:8080/"
        }
      },
      "execution_count": 14,
      "outputs": [
        {
          "output_type": "execute_result",
          "data": {
            "text/plain": [
              "(          age       sex       bmi        bp        s1        s2        s3  \\\n",
              " 0    0.038076  0.050680  0.061696  0.021872 -0.044223 -0.034821 -0.043401   \n",
              " 1   -0.001882 -0.044642 -0.051474 -0.026328 -0.008449 -0.019163  0.074412   \n",
              " 2    0.085299  0.050680  0.044451 -0.005671 -0.045599 -0.034194 -0.032356   \n",
              " 3   -0.089063 -0.044642 -0.011595 -0.036656  0.012191  0.024991 -0.036038   \n",
              " 4    0.005383 -0.044642 -0.036385  0.021872  0.003935  0.015596  0.008142   \n",
              " ..        ...       ...       ...       ...       ...       ...       ...   \n",
              " 437  0.041708  0.050680  0.019662  0.059744 -0.005697 -0.002566 -0.028674   \n",
              " 438 -0.005515  0.050680 -0.015906 -0.067642  0.049341  0.079165 -0.028674   \n",
              " 439  0.041708  0.050680 -0.015906  0.017282 -0.037344 -0.013840 -0.024993   \n",
              " 440 -0.045472 -0.044642  0.039062  0.001215  0.016318  0.015283 -0.028674   \n",
              " 441 -0.045472 -0.044642 -0.073030 -0.081414  0.083740  0.027809  0.173816   \n",
              " \n",
              "            s4        s5        s6  \n",
              " 0   -0.002592  0.019908 -0.017646  \n",
              " 1   -0.039493 -0.068330 -0.092204  \n",
              " 2   -0.002592  0.002864 -0.025930  \n",
              " 3    0.034309  0.022692 -0.009362  \n",
              " 4   -0.002592 -0.031991 -0.046641  \n",
              " ..        ...       ...       ...  \n",
              " 437 -0.002592  0.031193  0.007207  \n",
              " 438  0.034309 -0.018118  0.044485  \n",
              " 439 -0.011080 -0.046879  0.015491  \n",
              " 440  0.026560  0.044528 -0.025930  \n",
              " 441 -0.039493 -0.004220  0.003064  \n",
              " \n",
              " [442 rows x 10 columns], 0      151.0\n",
              " 1       75.0\n",
              " 2      141.0\n",
              " 3      206.0\n",
              " 4      135.0\n",
              "        ...  \n",
              " 437    178.0\n",
              " 438    104.0\n",
              " 439    132.0\n",
              " 440    220.0\n",
              " 441     57.0\n",
              " Name: target, Length: 442, dtype: float64)"
            ]
          },
          "metadata": {},
          "execution_count": 14
        }
      ]
    },
    {
      "cell_type": "markdown",
      "source": [
        "How many variables are in X?\n",
        "There are 10 variables in X."
      ],
      "metadata": {
        "id": "gJM0RWChiDJh"
      }
    },
    {
      "cell_type": "markdown",
      "source": [
        "## Question 2"
      ],
      "metadata": {
        "id": "gnYj7rp4YC85"
      }
    },
    {
      "cell_type": "code",
      "source": [
        "# Import the SGD Linear Regression algorithm \n",
        "# SGD stands for Stochastic Gradient Descent: the gradient of the loss is \n",
        "# estimated each sample at a time and the model is updated along the way \n",
        "# with a decreasing strength schedule (aka learning rate).\n",
        "\n",
        "\n",
        "# Set it as the mod variable\n",
        "mod = \n",
        "\n",
        "# Take a look at the parameters\n"
      ],
      "metadata": {
        "id": "A-3u3_nsYEfr"
      },
      "execution_count": null,
      "outputs": []
    },
    {
      "cell_type": "markdown",
      "source": [
        "What are the parameters of the Linear Regression model?"
      ],
      "metadata": {
        "id": "fvzKrAsDjrw0"
      }
    },
    {
      "cell_type": "markdown",
      "source": [
        "## Question 3."
      ],
      "metadata": {
        "id": "zSB12OsWYE6i"
      }
    },
    {
      "cell_type": "code",
      "source": [
        "# Import the Standard Scaler and take a look at the parameters\n"
      ],
      "metadata": {
        "id": "Abs9a_v8YFYx"
      },
      "execution_count": null,
      "outputs": []
    },
    {
      "cell_type": "markdown",
      "source": [
        "What are the default option at which with_mean and with_std are set?"
      ],
      "metadata": {
        "id": "fk3CtAdKkNr2"
      }
    },
    {
      "cell_type": "markdown",
      "source": [
        "## Question 4."
      ],
      "metadata": {
        "id": "GiVldJW2YFp8"
      }
    },
    {
      "cell_type": "code",
      "source": [
        "# Create a pipeline using the two previous steps, for the model\n",
        "# set the SGDRegressor parameter random_state = 123 to reproduce results.\n",
        "\n",
        "\n",
        "\n",
        "#Fit and predict the pipe, print results\n",
        "\n"
      ],
      "metadata": {
        "id": "lzkAXHECYF-B"
      },
      "execution_count": null,
      "outputs": []
    },
    {
      "cell_type": "markdown",
      "source": [
        "What are the first 4 predicted values? "
      ],
      "metadata": {
        "id": "m8_OvAAalaWM"
      }
    },
    {
      "cell_type": "markdown",
      "source": [
        "Question 5."
      ],
      "metadata": {
        "id": "u7GHpq7FYGQB"
      }
    },
    {
      "cell_type": "code",
      "source": [
        "# Now create a GridSearchCV Object using the previous pipe object,\n",
        "# where the parameter 'model__alpa' is set to try 0.0001, 0.005, 0.001.\n",
        "# Set cross validation to 3 times.\n",
        "\n"
      ],
      "metadata": {
        "id": "DFbW7-gPYGjl"
      },
      "execution_count": null,
      "outputs": []
    },
    {
      "cell_type": "markdown",
      "source": [
        "How are you supposed to write the values of the parameter 'alpha'?"
      ],
      "metadata": {
        "id": "qCUnrjFJnY-X"
      }
    },
    {
      "cell_type": "markdown",
      "source": [
        "Question 6."
      ],
      "metadata": {
        "id": "2EN6DfL2YHCC"
      }
    },
    {
      "cell_type": "code",
      "source": [
        "# Now fit the GridSearch model from above and see the results \n",
        "# (Hint: to make sure we all get the same results, you had to use the pipe that\n",
        "# was set in question 4 making sure we used the same random_state = 123)\n",
        "\n"
      ],
      "metadata": {
        "id": "46sNANbrYHdb"
      },
      "execution_count": null,
      "outputs": []
    },
    {
      "cell_type": "markdown",
      "source": [
        "Which is the best model? Look at the rank_test_value"
      ],
      "metadata": {
        "id": "byN7vPtHon9l"
      }
    },
    {
      "cell_type": "markdown",
      "source": [
        "Question 7.\n",
        "\n",
        "Find out which test score is the one that is reported above in mean_test_score. What is it and how do you interpret this results?"
      ],
      "metadata": {
        "id": "u1uts1sGYHwM"
      }
    }
  ]
}